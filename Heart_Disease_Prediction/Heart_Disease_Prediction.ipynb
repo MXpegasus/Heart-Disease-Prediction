{
 "cells": [
  {
   "cell_type": "markdown",
   "id": "565e55d3",
   "metadata": {},
   "source": [
    "# Read CSV File"
   ]
  },
  {
   "cell_type": "code",
   "execution_count": 26,
   "id": "b59a2ef1",
   "metadata": {},
   "outputs": [
    {
     "data": {
      "text/html": [
       "<div>\n",
       "<style scoped>\n",
       "    .dataframe tbody tr th:only-of-type {\n",
       "        vertical-align: middle;\n",
       "    }\n",
       "\n",
       "    .dataframe tbody tr th {\n",
       "        vertical-align: top;\n",
       "    }\n",
       "\n",
       "    .dataframe thead th {\n",
       "        text-align: right;\n",
       "    }\n",
       "</style>\n",
       "<table border=\"1\" class=\"dataframe\">\n",
       "  <thead>\n",
       "    <tr style=\"text-align: right;\">\n",
       "      <th></th>\n",
       "      <th>Age</th>\n",
       "      <th>Sex</th>\n",
       "      <th>Chestpaintype</th>\n",
       "      <th>BP</th>\n",
       "      <th>Cholesterol</th>\n",
       "      <th>FBSover120</th>\n",
       "      <th>EKGresults</th>\n",
       "      <th>MaxHR</th>\n",
       "      <th>Exerciseangina</th>\n",
       "      <th>STdepression</th>\n",
       "      <th>SlopeofST</th>\n",
       "      <th>Numberofvesselsfluro</th>\n",
       "      <th>Thallium</th>\n",
       "      <th>HeartDisease</th>\n",
       "    </tr>\n",
       "  </thead>\n",
       "  <tbody>\n",
       "    <tr>\n",
       "      <th>0</th>\n",
       "      <td>70</td>\n",
       "      <td>1</td>\n",
       "      <td>4</td>\n",
       "      <td>130</td>\n",
       "      <td>322</td>\n",
       "      <td>0</td>\n",
       "      <td>2</td>\n",
       "      <td>109</td>\n",
       "      <td>0</td>\n",
       "      <td>2.4</td>\n",
       "      <td>2</td>\n",
       "      <td>3</td>\n",
       "      <td>3</td>\n",
       "      <td>Presence</td>\n",
       "    </tr>\n",
       "    <tr>\n",
       "      <th>1</th>\n",
       "      <td>67</td>\n",
       "      <td>0</td>\n",
       "      <td>3</td>\n",
       "      <td>115</td>\n",
       "      <td>564</td>\n",
       "      <td>0</td>\n",
       "      <td>2</td>\n",
       "      <td>160</td>\n",
       "      <td>0</td>\n",
       "      <td>1.6</td>\n",
       "      <td>2</td>\n",
       "      <td>0</td>\n",
       "      <td>7</td>\n",
       "      <td>Absence</td>\n",
       "    </tr>\n",
       "    <tr>\n",
       "      <th>2</th>\n",
       "      <td>57</td>\n",
       "      <td>1</td>\n",
       "      <td>2</td>\n",
       "      <td>124</td>\n",
       "      <td>261</td>\n",
       "      <td>0</td>\n",
       "      <td>0</td>\n",
       "      <td>141</td>\n",
       "      <td>0</td>\n",
       "      <td>0.3</td>\n",
       "      <td>1</td>\n",
       "      <td>0</td>\n",
       "      <td>7</td>\n",
       "      <td>Presence</td>\n",
       "    </tr>\n",
       "    <tr>\n",
       "      <th>3</th>\n",
       "      <td>64</td>\n",
       "      <td>1</td>\n",
       "      <td>4</td>\n",
       "      <td>128</td>\n",
       "      <td>263</td>\n",
       "      <td>0</td>\n",
       "      <td>0</td>\n",
       "      <td>105</td>\n",
       "      <td>1</td>\n",
       "      <td>0.2</td>\n",
       "      <td>2</td>\n",
       "      <td>1</td>\n",
       "      <td>7</td>\n",
       "      <td>Absence</td>\n",
       "    </tr>\n",
       "    <tr>\n",
       "      <th>4</th>\n",
       "      <td>74</td>\n",
       "      <td>0</td>\n",
       "      <td>2</td>\n",
       "      <td>120</td>\n",
       "      <td>269</td>\n",
       "      <td>0</td>\n",
       "      <td>2</td>\n",
       "      <td>121</td>\n",
       "      <td>1</td>\n",
       "      <td>0.2</td>\n",
       "      <td>1</td>\n",
       "      <td>1</td>\n",
       "      <td>3</td>\n",
       "      <td>Absence</td>\n",
       "    </tr>\n",
       "    <tr>\n",
       "      <th>5</th>\n",
       "      <td>65</td>\n",
       "      <td>1</td>\n",
       "      <td>4</td>\n",
       "      <td>120</td>\n",
       "      <td>177</td>\n",
       "      <td>0</td>\n",
       "      <td>0</td>\n",
       "      <td>140</td>\n",
       "      <td>0</td>\n",
       "      <td>0.4</td>\n",
       "      <td>1</td>\n",
       "      <td>0</td>\n",
       "      <td>7</td>\n",
       "      <td>Absence</td>\n",
       "    </tr>\n",
       "    <tr>\n",
       "      <th>6</th>\n",
       "      <td>56</td>\n",
       "      <td>1</td>\n",
       "      <td>3</td>\n",
       "      <td>130</td>\n",
       "      <td>256</td>\n",
       "      <td>1</td>\n",
       "      <td>2</td>\n",
       "      <td>142</td>\n",
       "      <td>1</td>\n",
       "      <td>0.6</td>\n",
       "      <td>2</td>\n",
       "      <td>1</td>\n",
       "      <td>6</td>\n",
       "      <td>Presence</td>\n",
       "    </tr>\n",
       "    <tr>\n",
       "      <th>7</th>\n",
       "      <td>59</td>\n",
       "      <td>1</td>\n",
       "      <td>4</td>\n",
       "      <td>110</td>\n",
       "      <td>239</td>\n",
       "      <td>0</td>\n",
       "      <td>2</td>\n",
       "      <td>142</td>\n",
       "      <td>1</td>\n",
       "      <td>1.2</td>\n",
       "      <td>2</td>\n",
       "      <td>1</td>\n",
       "      <td>7</td>\n",
       "      <td>Presence</td>\n",
       "    </tr>\n",
       "    <tr>\n",
       "      <th>8</th>\n",
       "      <td>60</td>\n",
       "      <td>1</td>\n",
       "      <td>4</td>\n",
       "      <td>140</td>\n",
       "      <td>293</td>\n",
       "      <td>0</td>\n",
       "      <td>2</td>\n",
       "      <td>170</td>\n",
       "      <td>0</td>\n",
       "      <td>1.2</td>\n",
       "      <td>2</td>\n",
       "      <td>2</td>\n",
       "      <td>7</td>\n",
       "      <td>Presence</td>\n",
       "    </tr>\n",
       "    <tr>\n",
       "      <th>9</th>\n",
       "      <td>63</td>\n",
       "      <td>0</td>\n",
       "      <td>4</td>\n",
       "      <td>150</td>\n",
       "      <td>407</td>\n",
       "      <td>0</td>\n",
       "      <td>2</td>\n",
       "      <td>154</td>\n",
       "      <td>0</td>\n",
       "      <td>4.0</td>\n",
       "      <td>2</td>\n",
       "      <td>3</td>\n",
       "      <td>7</td>\n",
       "      <td>Presence</td>\n",
       "    </tr>\n",
       "  </tbody>\n",
       "</table>\n",
       "</div>"
      ],
      "text/plain": [
       "   Age  Sex  Chestpaintype   BP  Cholesterol  FBSover120  EKGresults  MaxHR  \\\n",
       "0   70    1              4  130          322           0           2    109   \n",
       "1   67    0              3  115          564           0           2    160   \n",
       "2   57    1              2  124          261           0           0    141   \n",
       "3   64    1              4  128          263           0           0    105   \n",
       "4   74    0              2  120          269           0           2    121   \n",
       "5   65    1              4  120          177           0           0    140   \n",
       "6   56    1              3  130          256           1           2    142   \n",
       "7   59    1              4  110          239           0           2    142   \n",
       "8   60    1              4  140          293           0           2    170   \n",
       "9   63    0              4  150          407           0           2    154   \n",
       "\n",
       "   Exerciseangina  STdepression  SlopeofST  Numberofvesselsfluro  Thallium  \\\n",
       "0               0           2.4          2                     3         3   \n",
       "1               0           1.6          2                     0         7   \n",
       "2               0           0.3          1                     0         7   \n",
       "3               1           0.2          2                     1         7   \n",
       "4               1           0.2          1                     1         3   \n",
       "5               0           0.4          1                     0         7   \n",
       "6               1           0.6          2                     1         6   \n",
       "7               1           1.2          2                     1         7   \n",
       "8               0           1.2          2                     2         7   \n",
       "9               0           4.0          2                     3         7   \n",
       "\n",
       "  HeartDisease  \n",
       "0     Presence  \n",
       "1      Absence  \n",
       "2     Presence  \n",
       "3      Absence  \n",
       "4      Absence  \n",
       "5      Absence  \n",
       "6     Presence  \n",
       "7     Presence  \n",
       "8     Presence  \n",
       "9     Presence  "
      ]
     },
     "execution_count": 26,
     "metadata": {},
     "output_type": "execute_result"
    }
   ],
   "source": [
    "import pandas as pd\n",
    "import numpy as np\n",
    "from statistics import mode\n",
    "from imblearn.over_sampling import SMOTE\n",
    "from sklearn.datasets import make_classification\n",
    "from matplotlib import pyplot as plt\n",
    "df = pd.read_csv('Heart_Disease_Prediction.csv')\n",
    "df.head(10)"
   ]
  },
  {
   "cell_type": "code",
   "execution_count": null,
   "id": "5fda70da-b80b-40d8-af87-c3b0de4cce9a",
   "metadata": {},
   "outputs": [],
   "source": [
    "pip install gradio"
   ]
  },
  {
   "cell_type": "markdown",
   "id": "2b0ef108",
   "metadata": {},
   "source": [
    "# Processing-Data"
   ]
  },
  {
   "cell_type": "code",
   "execution_count": 27,
   "id": "8f1f62cc",
   "metadata": {},
   "outputs": [
    {
     "data": {
      "text/html": [
       "<div>\n",
       "<style scoped>\n",
       "    .dataframe tbody tr th:only-of-type {\n",
       "        vertical-align: middle;\n",
       "    }\n",
       "\n",
       "    .dataframe tbody tr th {\n",
       "        vertical-align: top;\n",
       "    }\n",
       "\n",
       "    .dataframe thead th {\n",
       "        text-align: right;\n",
       "    }\n",
       "</style>\n",
       "<table border=\"1\" class=\"dataframe\">\n",
       "  <thead>\n",
       "    <tr style=\"text-align: right;\">\n",
       "      <th></th>\n",
       "      <th>Sex</th>\n",
       "      <th>Chestpaintype</th>\n",
       "      <th>BP</th>\n",
       "      <th>Cholesterol</th>\n",
       "      <th>FBSover120</th>\n",
       "      <th>EKGresults</th>\n",
       "      <th>MaxHR</th>\n",
       "      <th>Exerciseangina</th>\n",
       "      <th>STdepression</th>\n",
       "      <th>SlopeofST</th>\n",
       "      <th>Numberofvesselsfluro</th>\n",
       "      <th>Thallium</th>\n",
       "      <th>HeartDisease</th>\n",
       "    </tr>\n",
       "  </thead>\n",
       "  <tbody>\n",
       "    <tr>\n",
       "      <th>0</th>\n",
       "      <td>1</td>\n",
       "      <td>4</td>\n",
       "      <td>130</td>\n",
       "      <td>322</td>\n",
       "      <td>0</td>\n",
       "      <td>2</td>\n",
       "      <td>109</td>\n",
       "      <td>0</td>\n",
       "      <td>2.4</td>\n",
       "      <td>2</td>\n",
       "      <td>3</td>\n",
       "      <td>3</td>\n",
       "      <td>1</td>\n",
       "    </tr>\n",
       "    <tr>\n",
       "      <th>1</th>\n",
       "      <td>0</td>\n",
       "      <td>3</td>\n",
       "      <td>115</td>\n",
       "      <td>564</td>\n",
       "      <td>0</td>\n",
       "      <td>2</td>\n",
       "      <td>160</td>\n",
       "      <td>0</td>\n",
       "      <td>1.6</td>\n",
       "      <td>2</td>\n",
       "      <td>0</td>\n",
       "      <td>7</td>\n",
       "      <td>0</td>\n",
       "    </tr>\n",
       "    <tr>\n",
       "      <th>2</th>\n",
       "      <td>1</td>\n",
       "      <td>2</td>\n",
       "      <td>124</td>\n",
       "      <td>261</td>\n",
       "      <td>0</td>\n",
       "      <td>0</td>\n",
       "      <td>141</td>\n",
       "      <td>0</td>\n",
       "      <td>0.3</td>\n",
       "      <td>1</td>\n",
       "      <td>0</td>\n",
       "      <td>7</td>\n",
       "      <td>1</td>\n",
       "    </tr>\n",
       "    <tr>\n",
       "      <th>3</th>\n",
       "      <td>1</td>\n",
       "      <td>4</td>\n",
       "      <td>128</td>\n",
       "      <td>263</td>\n",
       "      <td>0</td>\n",
       "      <td>0</td>\n",
       "      <td>105</td>\n",
       "      <td>1</td>\n",
       "      <td>0.2</td>\n",
       "      <td>2</td>\n",
       "      <td>1</td>\n",
       "      <td>7</td>\n",
       "      <td>0</td>\n",
       "    </tr>\n",
       "    <tr>\n",
       "      <th>4</th>\n",
       "      <td>0</td>\n",
       "      <td>2</td>\n",
       "      <td>120</td>\n",
       "      <td>269</td>\n",
       "      <td>0</td>\n",
       "      <td>2</td>\n",
       "      <td>121</td>\n",
       "      <td>1</td>\n",
       "      <td>0.2</td>\n",
       "      <td>1</td>\n",
       "      <td>1</td>\n",
       "      <td>3</td>\n",
       "      <td>0</td>\n",
       "    </tr>\n",
       "    <tr>\n",
       "      <th>5</th>\n",
       "      <td>1</td>\n",
       "      <td>4</td>\n",
       "      <td>120</td>\n",
       "      <td>177</td>\n",
       "      <td>0</td>\n",
       "      <td>0</td>\n",
       "      <td>140</td>\n",
       "      <td>0</td>\n",
       "      <td>0.4</td>\n",
       "      <td>1</td>\n",
       "      <td>0</td>\n",
       "      <td>7</td>\n",
       "      <td>0</td>\n",
       "    </tr>\n",
       "    <tr>\n",
       "      <th>6</th>\n",
       "      <td>1</td>\n",
       "      <td>3</td>\n",
       "      <td>130</td>\n",
       "      <td>256</td>\n",
       "      <td>1</td>\n",
       "      <td>2</td>\n",
       "      <td>142</td>\n",
       "      <td>1</td>\n",
       "      <td>0.6</td>\n",
       "      <td>2</td>\n",
       "      <td>1</td>\n",
       "      <td>6</td>\n",
       "      <td>1</td>\n",
       "    </tr>\n",
       "    <tr>\n",
       "      <th>7</th>\n",
       "      <td>1</td>\n",
       "      <td>4</td>\n",
       "      <td>110</td>\n",
       "      <td>239</td>\n",
       "      <td>0</td>\n",
       "      <td>2</td>\n",
       "      <td>142</td>\n",
       "      <td>1</td>\n",
       "      <td>1.2</td>\n",
       "      <td>2</td>\n",
       "      <td>1</td>\n",
       "      <td>7</td>\n",
       "      <td>1</td>\n",
       "    </tr>\n",
       "    <tr>\n",
       "      <th>8</th>\n",
       "      <td>1</td>\n",
       "      <td>4</td>\n",
       "      <td>140</td>\n",
       "      <td>293</td>\n",
       "      <td>0</td>\n",
       "      <td>2</td>\n",
       "      <td>170</td>\n",
       "      <td>0</td>\n",
       "      <td>1.2</td>\n",
       "      <td>2</td>\n",
       "      <td>2</td>\n",
       "      <td>7</td>\n",
       "      <td>1</td>\n",
       "    </tr>\n",
       "    <tr>\n",
       "      <th>9</th>\n",
       "      <td>0</td>\n",
       "      <td>4</td>\n",
       "      <td>150</td>\n",
       "      <td>407</td>\n",
       "      <td>0</td>\n",
       "      <td>2</td>\n",
       "      <td>154</td>\n",
       "      <td>0</td>\n",
       "      <td>4.0</td>\n",
       "      <td>2</td>\n",
       "      <td>3</td>\n",
       "      <td>7</td>\n",
       "      <td>1</td>\n",
       "    </tr>\n",
       "  </tbody>\n",
       "</table>\n",
       "</div>"
      ],
      "text/plain": [
       "   Sex  Chestpaintype   BP  Cholesterol  FBSover120  EKGresults  MaxHR  \\\n",
       "0    1              4  130          322           0           2    109   \n",
       "1    0              3  115          564           0           2    160   \n",
       "2    1              2  124          261           0           0    141   \n",
       "3    1              4  128          263           0           0    105   \n",
       "4    0              2  120          269           0           2    121   \n",
       "5    1              4  120          177           0           0    140   \n",
       "6    1              3  130          256           1           2    142   \n",
       "7    1              4  110          239           0           2    142   \n",
       "8    1              4  140          293           0           2    170   \n",
       "9    0              4  150          407           0           2    154   \n",
       "\n",
       "   Exerciseangina  STdepression  SlopeofST  Numberofvesselsfluro  Thallium  \\\n",
       "0               0           2.4          2                     3         3   \n",
       "1               0           1.6          2                     0         7   \n",
       "2               0           0.3          1                     0         7   \n",
       "3               1           0.2          2                     1         7   \n",
       "4               1           0.2          1                     1         3   \n",
       "5               0           0.4          1                     0         7   \n",
       "6               1           0.6          2                     1         6   \n",
       "7               1           1.2          2                     1         7   \n",
       "8               0           1.2          2                     2         7   \n",
       "9               0           4.0          2                     3         7   \n",
       "\n",
       "  HeartDisease  \n",
       "0            1  \n",
       "1            0  \n",
       "2            1  \n",
       "3            0  \n",
       "4            0  \n",
       "5            0  \n",
       "6            1  \n",
       "7            1  \n",
       "8            1  \n",
       "9            1  "
      ]
     },
     "execution_count": 27,
     "metadata": {},
     "output_type": "execute_result"
    }
   ],
   "source": [
    "#Drop cloumn Patient Id\n",
    "df.drop(df.columns[0], axis=1, inplace=True)\n",
    "df.replace(to_replace=\"Presence\",\n",
    "           value=\"1\",inplace=True)\n",
    "df.replace(to_replace=\"Absence\",\n",
    "           value=\"0\",inplace=True)\n",
    "df.head(10)"
   ]
  },
  {
   "cell_type": "markdown",
   "id": "0fc91b9a",
   "metadata": {},
   "source": [
    "# Select input"
   ]
  },
  {
   "cell_type": "code",
   "execution_count": 28,
   "id": "15872d89",
   "metadata": {
    "scrolled": true
   },
   "outputs": [
    {
     "data": {
      "text/html": [
       "<div>\n",
       "<style scoped>\n",
       "    .dataframe tbody tr th:only-of-type {\n",
       "        vertical-align: middle;\n",
       "    }\n",
       "\n",
       "    .dataframe tbody tr th {\n",
       "        vertical-align: top;\n",
       "    }\n",
       "\n",
       "    .dataframe thead th {\n",
       "        text-align: right;\n",
       "    }\n",
       "</style>\n",
       "<table border=\"1\" class=\"dataframe\">\n",
       "  <thead>\n",
       "    <tr style=\"text-align: right;\">\n",
       "      <th></th>\n",
       "      <th>Sex</th>\n",
       "      <th>Chestpaintype</th>\n",
       "      <th>BP</th>\n",
       "      <th>Cholesterol</th>\n",
       "      <th>FBSover120</th>\n",
       "      <th>EKGresults</th>\n",
       "      <th>MaxHR</th>\n",
       "      <th>Exerciseangina</th>\n",
       "      <th>STdepression</th>\n",
       "      <th>SlopeofST</th>\n",
       "      <th>Numberofvesselsfluro</th>\n",
       "      <th>Thallium</th>\n",
       "    </tr>\n",
       "  </thead>\n",
       "  <tbody>\n",
       "    <tr>\n",
       "      <th>0</th>\n",
       "      <td>1</td>\n",
       "      <td>4</td>\n",
       "      <td>130</td>\n",
       "      <td>322</td>\n",
       "      <td>0</td>\n",
       "      <td>2</td>\n",
       "      <td>109</td>\n",
       "      <td>0</td>\n",
       "      <td>2.4</td>\n",
       "      <td>2</td>\n",
       "      <td>3</td>\n",
       "      <td>3</td>\n",
       "    </tr>\n",
       "    <tr>\n",
       "      <th>1</th>\n",
       "      <td>0</td>\n",
       "      <td>3</td>\n",
       "      <td>115</td>\n",
       "      <td>564</td>\n",
       "      <td>0</td>\n",
       "      <td>2</td>\n",
       "      <td>160</td>\n",
       "      <td>0</td>\n",
       "      <td>1.6</td>\n",
       "      <td>2</td>\n",
       "      <td>0</td>\n",
       "      <td>7</td>\n",
       "    </tr>\n",
       "    <tr>\n",
       "      <th>2</th>\n",
       "      <td>1</td>\n",
       "      <td>2</td>\n",
       "      <td>124</td>\n",
       "      <td>261</td>\n",
       "      <td>0</td>\n",
       "      <td>0</td>\n",
       "      <td>141</td>\n",
       "      <td>0</td>\n",
       "      <td>0.3</td>\n",
       "      <td>1</td>\n",
       "      <td>0</td>\n",
       "      <td>7</td>\n",
       "    </tr>\n",
       "    <tr>\n",
       "      <th>3</th>\n",
       "      <td>1</td>\n",
       "      <td>4</td>\n",
       "      <td>128</td>\n",
       "      <td>263</td>\n",
       "      <td>0</td>\n",
       "      <td>0</td>\n",
       "      <td>105</td>\n",
       "      <td>1</td>\n",
       "      <td>0.2</td>\n",
       "      <td>2</td>\n",
       "      <td>1</td>\n",
       "      <td>7</td>\n",
       "    </tr>\n",
       "    <tr>\n",
       "      <th>4</th>\n",
       "      <td>0</td>\n",
       "      <td>2</td>\n",
       "      <td>120</td>\n",
       "      <td>269</td>\n",
       "      <td>0</td>\n",
       "      <td>2</td>\n",
       "      <td>121</td>\n",
       "      <td>1</td>\n",
       "      <td>0.2</td>\n",
       "      <td>1</td>\n",
       "      <td>1</td>\n",
       "      <td>3</td>\n",
       "    </tr>\n",
       "  </tbody>\n",
       "</table>\n",
       "</div>"
      ],
      "text/plain": [
       "   Sex  Chestpaintype   BP  Cholesterol  FBSover120  EKGresults  MaxHR  \\\n",
       "0    1              4  130          322           0           2    109   \n",
       "1    0              3  115          564           0           2    160   \n",
       "2    1              2  124          261           0           0    141   \n",
       "3    1              4  128          263           0           0    105   \n",
       "4    0              2  120          269           0           2    121   \n",
       "\n",
       "   Exerciseangina  STdepression  SlopeofST  Numberofvesselsfluro  Thallium  \n",
       "0               0           2.4          2                     3         3  \n",
       "1               0           1.6          2                     0         7  \n",
       "2               0           0.3          1                     0         7  \n",
       "3               1           0.2          2                     1         7  \n",
       "4               1           0.2          1                     1         3  "
      ]
     },
     "execution_count": 28,
     "metadata": {},
     "output_type": "execute_result"
    }
   ],
   "source": [
    "X=df[[\"Sex\",\"Chestpaintype\",\"BP\",\"Cholesterol\",\"FBSover120\",\"EKGresults\",\"MaxHR\",\"Exerciseangina\",\"STdepression\",\"SlopeofST\",\n",
    "      \"Numberofvesselsfluro\",\"Thallium\"]]\n",
    "X.head()"
   ]
  },
  {
   "cell_type": "markdown",
   "id": "9ea32792",
   "metadata": {},
   "source": [
    "# Select output"
   ]
  },
  {
   "cell_type": "code",
   "execution_count": 29,
   "id": "3cf03184",
   "metadata": {},
   "outputs": [
    {
     "data": {
      "text/html": [
       "<div>\n",
       "<style scoped>\n",
       "    .dataframe tbody tr th:only-of-type {\n",
       "        vertical-align: middle;\n",
       "    }\n",
       "\n",
       "    .dataframe tbody tr th {\n",
       "        vertical-align: top;\n",
       "    }\n",
       "\n",
       "    .dataframe thead th {\n",
       "        text-align: right;\n",
       "    }\n",
       "</style>\n",
       "<table border=\"1\" class=\"dataframe\">\n",
       "  <thead>\n",
       "    <tr style=\"text-align: right;\">\n",
       "      <th></th>\n",
       "      <th>HeartDisease</th>\n",
       "    </tr>\n",
       "  </thead>\n",
       "  <tbody>\n",
       "    <tr>\n",
       "      <th>0</th>\n",
       "      <td>1</td>\n",
       "    </tr>\n",
       "    <tr>\n",
       "      <th>1</th>\n",
       "      <td>0</td>\n",
       "    </tr>\n",
       "    <tr>\n",
       "      <th>2</th>\n",
       "      <td>1</td>\n",
       "    </tr>\n",
       "    <tr>\n",
       "      <th>3</th>\n",
       "      <td>0</td>\n",
       "    </tr>\n",
       "    <tr>\n",
       "      <th>4</th>\n",
       "      <td>0</td>\n",
       "    </tr>\n",
       "  </tbody>\n",
       "</table>\n",
       "</div>"
      ],
      "text/plain": [
       "  HeartDisease\n",
       "0            1\n",
       "1            0\n",
       "2            1\n",
       "3            0\n",
       "4            0"
      ]
     },
     "execution_count": 29,
     "metadata": {},
     "output_type": "execute_result"
    }
   ],
   "source": [
    "Y=df[['HeartDisease']]\n",
    "Y.head()"
   ]
  },
  {
   "cell_type": "markdown",
   "id": "d00ecb82",
   "metadata": {},
   "source": [
    "# Classes Distribution"
   ]
  },
  {
   "cell_type": "code",
   "execution_count": 30,
   "id": "477f2241",
   "metadata": {},
   "outputs": [
    {
     "data": {
      "image/png": "[encoded data removed]",
      "text/plain": [
       "<Figure size 1000x700 with 1 Axes>"
      ]
     },
     "metadata": {},
     "output_type": "display_data"
    }
   ],
   "source": [
    "class_counts = Y.groupby('HeartDisease').size()\n",
    "class_counts.head()\n",
    "label = ['Yes', 'No']\n",
    "# Creating plot\n",
    "fig = plt.figure(figsize =(10, 7))\n",
    "plt.pie(class_counts, labels = label, startangle=0, autopct='%1.1f%%')\n",
    "plt.axis('equal')\n",
    "# show plot\n",
    "plt.show()"
   ]
  },
  {
   "cell_type": "markdown",
   "id": "3d2260cb",
   "metadata": {},
   "source": [
    "# Classes Distribution after over sampling"
   ]
  },
  {
   "cell_type": "code",
   "execution_count": 31,
   "id": "e43dc09b",
   "metadata": {
    "scrolled": true
   },
   "outputs": [
    {
     "name": "stdout",
     "output_type": "stream",
     "text": [
      "Counter({0: 700, 1: 300})\n",
      "Counter({1: 700, 0: 700})\n",
      "[1 0 0 ... 1 1 1]\n"
     ]
    },
    {
     "data": {
      "image/png": "[encoded data removed]",
      "text/plain": [
       "<Figure size 1000x700 with 1 Axes>"
      ]
     },
     "metadata": {},
     "output_type": "display_data"
    }
   ],
   "source": [
    "from imblearn.over_sampling import SMOTE\n",
    "# Oversample and plot imbalanced dataset with SMOTE\n",
    "from collections import Counter\n",
    "from numpy import where\n",
    "# define dataset\n",
    "X_in, Y_in = make_classification(n_samples=1000, n_features=12, n_redundant=0,n_classes=2,\n",
    "\tn_clusters_per_class=2, weights=[0.7], flip_y=0, random_state=42)\n",
    "# summarize class distribution\n",
    "counter = Counter(Y_in)\n",
    "print(counter)\n",
    "# transform the dataset\n",
    "oversample = SMOTE()\n",
    "X, Y = oversample.fit_resample(X_in, Y_in)\n",
    "# summarize the new class distribution\n",
    "counter = Counter(Y)\n",
    "print(counter)\n",
    "print(Y)\n",
    "label = ['Yes', 'No']\n",
    "data=['1400','1400']\n",
    "fig = plt.figure(figsize =(10, 7))\n",
    "plt.pie(data, labels =label, startangle=0, autopct='%1.1f%%')\n",
    "plt.axis('equal')\n",
    "# show plot\n",
    "plt.show()"
   ]
  },
  {
   "cell_type": "markdown",
   "id": "d18739d3",
   "metadata": {},
   "source": [
    "# Test and train data"
   ]
  },
  {
   "cell_type": "code",
   "execution_count": 32,
   "id": "afdd27d1",
   "metadata": {},
   "outputs": [],
   "source": [
    "from sklearn.model_selection import train_test_split\n",
    "X_train, X_test, y_train, y_test = train_test_split(X, Y,\n",
    "                                                    test_size=0.2,\n",
    "                                                    random_state=1)"
   ]
  },
  {
   "cell_type": "markdown",
   "id": "c1d35598",
   "metadata": {},
   "source": [
    "# select models and train"
   ]
  },
  {
   "cell_type": "code",
   "execution_count": 33,
   "id": "0103a3a0",
   "metadata": {},
   "outputs": [],
   "source": [
    "from sklearn.linear_model import LogisticRegression\n",
    "from sklearn import tree\n",
    "from sklearn.svm import SVC\n",
    "from sklearn.neighbors import KNeighborsClassifier\n",
    "knn = KNeighborsClassifier(n_neighbors=3)\n",
    "LogReg = LogisticRegression(solver='lbfgs', max_iter=200)\n",
    "dt=tree.DecisionTreeClassifier(criterion=\"entropy\")\n",
    "svc = SVC(probability=True)\n",
    "for clf in (LogReg, knn, dt,svc):\n",
    "    clf.fit(X_train, y_train)\n",
    "    Y_pred = clf.predict(X_train)"
   ]
  },
  {
   "cell_type": "markdown",
   "id": "3a614445",
   "metadata": {},
   "source": [
    "# Evaluation models:"
   ]
  },
  {
   "cell_type": "markdown",
   "id": "1f57e757",
   "metadata": {},
   "source": [
    "# Evaluation Logistic Regression"
   ]
  },
  {
   "cell_type": "code",
   "execution_count": 34,
   "id": "3381fe65",
   "metadata": {},
   "outputs": [
    {
     "name": "stdout",
     "output_type": "stream",
     "text": [
      "Accuracy: 0.889\n",
      "Precision: 0.897\n",
      "Recall: 0.878\n",
      "F1: 0.887\n"
     ]
    }
   ],
   "source": [
    "from sklearn.metrics import f1_score\n",
    "from sklearn.metrics import accuracy_score\n",
    "from sklearn.metrics import precision_score\n",
    "from sklearn.metrics import recall_score\n",
    "y_pred=LogReg.predict(X_test)\n",
    "print('Accuracy: %.3f' % accuracy_score(y_test, y_pred))\n",
    "print('Precision: %.3f' % precision_score(y_test, y_pred,pos_label=0))\n",
    "print('Recall: %.3f' % recall_score(y_test, y_pred,pos_label=0))\n",
    "print('F1: %.3f' % f1_score(y_test, y_pred,pos_label=0))"
   ]
  },
  {
   "cell_type": "markdown",
   "id": "2ef4ec13",
   "metadata": {},
   "source": [
    "# Confusion matrix for Logistic Regression "
   ]
  },
  {
   "cell_type": "code",
   "execution_count": 35,
   "id": "bda5ad05",
   "metadata": {},
   "outputs": [
    {
     "data": {
      "image/png": "[encoded data removed]",
      "text/plain": [
       "<Figure size 640x480 with 2 Axes>"
      ]
     },
     "metadata": {},
     "output_type": "display_data"
    }
   ],
   "source": [
    "from sklearn.metrics import confusion_matrix\n",
    "import seaborn as sns; sns.set_theme()\n",
    "uniform_data = confusion_matrix(y_test, y_pred, labels=[1, 0])\n",
    "ax = sns.heatmap(uniform_data,annot=True, fmt='g')"
   ]
  },
  {
   "cell_type": "markdown",
   "id": "0f2bede4",
   "metadata": {},
   "source": [
    "# ROC and AUC for Logistic Regression"
   ]
  },
  {
   "cell_type": "code",
   "execution_count": 36,
   "id": "d4d78a6a",
   "metadata": {},
   "outputs": [
    {
     "name": "stdout",
     "output_type": "stream",
     "text": [
      "AUC: 0.948\n"
     ]
    },
    {
     "data": {
      "image/png": "[encoded data removed]",
      "text/plain": [
       "<Figure size 640x480 with 1 Axes>"
      ]
     },
     "metadata": {},
     "output_type": "display_data"
    }
   ],
   "source": [
    "from sklearn.metrics import roc_curve, roc_auc_score\n",
    "import matplotlib.pyplot as plt\n",
    "from sklearn import metrics\n",
    "pred_prob = LogReg.predict_proba(X_test)\n",
    "# roc curve for models\n",
    "fpr, tpr, thresh = roc_curve(y_test, pred_prob[:,1])\n",
    "# roc curve for tpr = fpr \n",
    "random_probs = [0 for i in range(len(y_test))]\n",
    "p_fpr, p_tpr, _ = roc_curve(y_test, random_probs)\n",
    "auc_score = roc_auc_score(y_test, pred_prob[:,1])\n",
    "print('AUC: %.3f' %auc_score)\n",
    "\n",
    "# plot roc curves\n",
    "plt.plot(fpr, tpr, linestyle='--',color='orange', label='Logistic Regression')\n",
    "plt.plot(p_fpr, p_tpr, linestyle='--', color='blue')\n",
    "# title\n",
    "plt.title('ROC curve')\n",
    "# x label\n",
    "plt.xlabel('False Positive Rate')\n",
    "# y label\n",
    "plt.ylabel('True Positive rate')\n",
    "\n",
    "plt.legend(loc='best')\n",
    "plt.savefig('ROC',dpi=300)\n",
    "plt.show();"
   ]
  },
  {
   "cell_type": "markdown",
   "id": "7c80c060",
   "metadata": {},
   "source": [
    "# Evaluation Decision Tree"
   ]
  },
  {
   "cell_type": "code",
   "execution_count": 37,
   "id": "6cc55241",
   "metadata": {},
   "outputs": [
    {
     "name": "stdout",
     "output_type": "stream",
     "text": [
      "Accuracy: 0.911\n",
      "Precision: 0.887\n",
      "Recall: 0.943\n",
      "F1: 0.914\n"
     ]
    }
   ],
   "source": [
    "y_pred=dt.predict(X_test)\n",
    "print('Accuracy: %.3f' % accuracy_score(y_test, y_pred))\n",
    "print('Precision: %.3f' % precision_score(y_test, y_pred,pos_label=1))\n",
    "print('Recall: %.3f' % recall_score(y_test, y_pred,pos_label=1))\n",
    "print('F1: %.3f' % f1_score(y_test, y_pred,pos_label=1))"
   ]
  },
  {
   "cell_type": "markdown",
   "id": "41f6d19c",
   "metadata": {},
   "source": [
    "# Confusion matrix for Decision Tree"
   ]
  },
  {
   "cell_type": "code",
   "execution_count": 38,
   "id": "3866d3d4",
   "metadata": {},
   "outputs": [
    {
     "data": {
      "image/png": "[encoded data removed]",
      "text/plain": [
       "<Figure size 640x480 with 2 Axes>"
      ]
     },
     "metadata": {},
     "output_type": "display_data"
    }
   ],
   "source": [
    "confusion_matrix(y_test, y_pred)\n",
    "uniform_data = confusion_matrix(y_test, y_pred, labels=[1, 0])\n",
    "ax = sns.heatmap(uniform_data,annot=True, fmt='g')"
   ]
  },
  {
   "cell_type": "markdown",
   "id": "b8bda646",
   "metadata": {},
   "source": [
    "# ROC and AUC for Decision Tree"
   ]
  },
  {
   "cell_type": "code",
   "execution_count": 39,
   "id": "ac3208ab",
   "metadata": {},
   "outputs": [
    {
     "name": "stdout",
     "output_type": "stream",
     "text": [
      "AUC: 0.910\n"
     ]
    },
    {
     "data": {
      "image/png": "[encoded data removed]",
      "text/plain": [
       "<Figure size 640x480 with 1 Axes>"
      ]
     },
     "metadata": {},
     "output_type": "display_data"
    }
   ],
   "source": [
    "pred_prob = dt.predict_proba(X_test)\n",
    "# roc curve for models\n",
    "fpr, tpr, thresh = roc_curve(y_test, pred_prob[:,1])\n",
    "# roc curve for tpr = fpr \n",
    "random_probs = [0 for i in range(len(y_test))]\n",
    "p_fpr, p_tpr, _ = roc_curve(y_test, random_probs)\n",
    "auc_score = roc_auc_score(y_test, pred_prob[:,1])\n",
    "print('AUC: %.3f' %auc_score)\n",
    "\n",
    "# plot roc curves\n",
    "plt.plot(fpr, tpr, linestyle='--',color='orange', label='Decision Tree')\n",
    "plt.plot(p_fpr, p_tpr, linestyle='--', color='blue')\n",
    "# title\n",
    "plt.title('ROC curve')\n",
    "# x label\n",
    "plt.xlabel('False Positive Rate')\n",
    "# y label\n",
    "plt.ylabel('True Positive rate')\n",
    "\n",
    "plt.legend(loc='best')\n",
    "plt.savefig('ROC',dpi=300)\n",
    "plt.show();"
   ]
  },
  {
   "cell_type": "markdown",
   "id": "e4822743",
   "metadata": {},
   "source": [
    "# Evaluation svc"
   ]
  },
  {
   "cell_type": "code",
   "execution_count": 40,
   "id": "7eba4411",
   "metadata": {},
   "outputs": [
    {
     "name": "stdout",
     "output_type": "stream",
     "text": [
      "Accuracy: 0.907\n",
      "Precision: 0.908\n",
      "Recall: 0.908\n",
      "F1: 0.908\n"
     ]
    }
   ],
   "source": [
    "y_pred=svc.predict(X_test)\n",
    "print('Accuracy: %.3f' % accuracy_score(y_test, y_pred))\n",
    "print('Precision: %.3f' % precision_score(y_test, y_pred,pos_label=1))\n",
    "print('Recall: %.3f' % recall_score(y_test, y_pred,pos_label=1))\n",
    "print('F1: %.3f' % f1_score(y_test, y_pred,pos_label=1))"
   ]
  },
  {
   "cell_type": "markdown",
   "id": "5f9a8c0c",
   "metadata": {},
   "source": [
    "# Confusion matrix for svc "
   ]
  },
  {
   "cell_type": "code",
   "execution_count": 41,
   "id": "e78a8eca",
   "metadata": {},
   "outputs": [
    {
     "data": {
      "image/png": "[encoded data removed]",
      "text/plain": [
       "<Figure size 640x480 with 2 Axes>"
      ]
     },
     "metadata": {},
     "output_type": "display_data"
    }
   ],
   "source": [
    "confusion_matrix(y_test, y_pred)\n",
    "uniform_data = confusion_matrix(y_test, y_pred, labels=[1, 0])\n",
    "ax = sns.heatmap(uniform_data,annot=True, fmt='g')"
   ]
  },
  {
   "cell_type": "markdown",
   "id": "92501796",
   "metadata": {},
   "source": [
    "# ROC and AUC for svc"
   ]
  },
  {
   "cell_type": "code",
   "execution_count": 42,
   "id": "391ac1ae",
   "metadata": {},
   "outputs": [
    {
     "name": "stdout",
     "output_type": "stream",
     "text": [
      "AUC: 0.940\n"
     ]
    },
    {
     "data": {
      "image/png": "[encoded data removed]",
      "text/plain": [
       "<Figure size 640x480 with 1 Axes>"
      ]
     },
     "metadata": {},
     "output_type": "display_data"
    }
   ],
   "source": [
    "pred_prob = svc.predict_proba(X_test)\n",
    "# roc curve for models\n",
    "fpr, tpr, thresh = roc_curve(y_test, pred_prob[:,1])\n",
    "# roc curve for tpr = fpr \n",
    "random_probs = [0 for i in range(len(y_test))]\n",
    "p_fpr, p_tpr, _ = roc_curve(y_test, random_probs)\n",
    "auc_score = roc_auc_score(y_test, pred_prob[:,1])\n",
    "print('AUC: %.3f' %auc_score)\n",
    "\n",
    "# plot roc curves\n",
    "plt.plot(fpr, tpr, linestyle='--',color='orange', label='svc')\n",
    "plt.plot(p_fpr, p_tpr, linestyle='--', color='blue')\n",
    "# title\n",
    "plt.title('ROC curve')\n",
    "# x label\n",
    "plt.xlabel('False Positive Rate')\n",
    "# y label\n",
    "plt.ylabel('True Positive rate')\n",
    "\n",
    "plt.legend(loc='best')\n",
    "plt.savefig('ROC',dpi=300)\n",
    "plt.show();"
   ]
  },
  {
   "cell_type": "markdown",
   "id": "b24e076a",
   "metadata": {},
   "source": [
    "# Evaluation knn"
   ]
  },
  {
   "cell_type": "code",
   "execution_count": 43,
   "id": "9d2baebb",
   "metadata": {},
   "outputs": [
    {
     "name": "stdout",
     "output_type": "stream",
     "text": [
      "Accuracy: 0.879\n",
      "Precision: 0.824\n",
      "Recall: 0.965\n",
      "F1: 0.889\n"
     ]
    }
   ],
   "source": [
    "y_pred=knn.predict(X_test)\n",
    "print('Accuracy: %.3f' % accuracy_score(y_test, y_pred))\n",
    "print('Precision: %.3f' % precision_score(y_test, y_pred,pos_label=1))\n",
    "print('Recall: %.3f' % recall_score(y_test, y_pred,pos_label=1))\n",
    "print('F1: %.3f' % f1_score(y_test, y_pred,pos_label=1))"
   ]
  },
  {
   "cell_type": "markdown",
   "id": "2887357e",
   "metadata": {},
   "source": [
    "# Confusion matrix for knn "
   ]
  },
  {
   "cell_type": "code",
   "execution_count": 44,
   "id": "4c435550",
   "metadata": {},
   "outputs": [
    {
     "data": {
      "image/png": "[encoded data removed]",
      "text/plain": [
       "<Figure size 640x480 with 2 Axes>"
      ]
     },
     "metadata": {},
     "output_type": "display_data"
    }
   ],
   "source": [
    "confusion_matrix(y_test, y_pred)\n",
    "uniform_data = confusion_matrix(y_test, y_pred, labels=[1, 0])\n",
    "ax = sns.heatmap(uniform_data,annot=True, fmt='g')"
   ]
  },
  {
   "cell_type": "markdown",
   "id": "8ddc2673",
   "metadata": {},
   "source": [
    "# ROC and AUC for knn"
   ]
  },
  {
   "cell_type": "code",
   "execution_count": 45,
   "id": "a6058a90",
   "metadata": {},
   "outputs": [
    {
     "name": "stdout",
     "output_type": "stream",
     "text": [
      "AUC: 0.937\n"
     ]
    },
    {
     "data": {
      "image/png": "[encoded data removed]",
      "text/plain": [
       "<Figure size 640x480 with 1 Axes>"
      ]
     },
     "metadata": {},
     "output_type": "display_data"
    }
   ],
   "source": [
    "pred_prob = knn.predict_proba(X_test)\n",
    "# roc curve for models\n",
    "fpr, tpr, thresh = roc_curve(y_test, pred_prob[:,1])\n",
    "# roc curve for tpr = fpr \n",
    "random_probs = [0 for i in range(len(y_test))]\n",
    "p_fpr, p_tpr, _ = roc_curve(y_test, random_probs)\n",
    "auc_score = roc_auc_score(y_test, pred_prob[:,1])\n",
    "print('AUC: %.3f' %auc_score)\n",
    "\n",
    "# plot roc curves\n",
    "plt.plot(fpr, tpr, linestyle='--',color='orange', label='knn')\n",
    "plt.plot(p_fpr, p_tpr, linestyle='--', color='blue')\n",
    "# title\n",
    "plt.title('ROC curve')\n",
    "# x label\n",
    "plt.xlabel('False Positive Rate')\n",
    "# y label\n",
    "plt.ylabel('True Positive rate')\n",
    "\n",
    "plt.legend(loc='best')\n",
    "plt.savefig('ROC',dpi=300)\n",
    "plt.show();"
   ]
  },
  {
   "cell_type": "markdown",
   "id": "3adb2523",
   "metadata": {},
   "source": [
    "# Save and test models"
   ]
  },
  {
   "cell_type": "code",
   "execution_count": 46,
   "id": "df6c7848",
   "metadata": {},
   "outputs": [],
   "source": [
    "import pickle\n",
    "LogReg_model = 'LogReg_model.sav'\n",
    "pickle.dump(LogReg, open(LogReg_model, 'wb'))\n",
    "DecisionTree_model = 'DecisionTree_model.sav'\n",
    "pickle.dump(dt, open(DecisionTree_model, 'wb'))\n",
    "svc_model = 'svc_model.sav'\n",
    "pickle.dump(svc, open(svc_model, 'wb'))\n",
    "knn_model = 'knn_model.sav'\n",
    "pickle.dump(knn, open(knn_model, 'wb'))"
   ]
  },
  {
   "cell_type": "markdown",
   "id": "860078bb",
   "metadata": {},
   "source": [
    "# Function for test models"
   ]
  },
  {
   "cell_type": "code",
   "execution_count": 47,
   "id": "7d671cb9",
   "metadata": {},
   "outputs": [],
   "source": [
    "def predictResult(z, model):\n",
    "    loaded_model = pickle.load(open(model,'rb'))\n",
    "    result = loaded_model.predict(z)\n",
    "    if result==0:\n",
    "        return (\"No\")\n",
    "    if result==1:\n",
    "        return (\"Yes\")"
   ]
  },
  {
   "cell_type": "markdown",
   "id": "22821545",
   "metadata": {},
   "source": [
    "# Call GUI"
   ]
  },
  {
   "cell_type": "code",
   "execution_count": 49,
   "id": "2ef84b6c",
   "metadata": {},
   "outputs": [
    {
     "name": "stdout",
     "output_type": "stream",
     "text": [
      "* Running on local URL:  http://127.0.0.1:7861\n",
      "\n",
      "To create a public link, set `share=True` in `launch()`.\n"
     ]
    },
    {
     "data": {
      "text/html": [
       "<div><iframe src=\"http://127.0.0.1:7861/\" width=\"100%\" height=\"500\" allow=\"autoplay; camera; microphone; clipboard-read; clipboard-write;\" frameborder=\"0\" allowfullscreen></iframe></div>"
      ],
      "text/plain": [
       "<IPython.core.display.HTML object>"
      ]
     },
     "metadata": {},
     "output_type": "display_data"
    },
    {
     "data": {
      "text/plain": []
     },
     "execution_count": 49,
     "metadata": {},
     "output_type": "execute_result"
    }
   ],
   "source": [
    "import gradio as gr\n",
    "\n",
    "def moduls(moduls_input,Sex,Chestpaintype,BP,Cholesterol,FBSover120,EKGresults,MaxHR,Exerciseangina,STdepression,SlopeofST,Numberofvesselsfluro,Thallium):\n",
    "    with open(moduls_input.strip()+'_model.sav', \"rb\") as f:\n",
    "        clf  = pickle.load(f)\n",
    "        preds = clf.predict([[Sex,Chestpaintype,BP,Cholesterol,FBSover120,EKGresults,MaxHR,Exerciseangina,STdepression,SlopeofST,Numberofvesselsfluro,Thallium]])\n",
    "    if preds == 1:\n",
    "            return \"You have symptoms of Heart Disease\"\n",
    "    return \"You do not have symptoms of Heart Disease\"\n",
    "\n",
    "#Create the input component for Gradio since we are expecting 4 inputs\n",
    "moduls_input=gr.Textbox(label=\"Enter Models Name: knn or SVC or LogReg or DecisionTree\")\n",
    "Gender_input = gr.Number(label = \"Enter 1 For Male or 2 For Female\")\n",
    "Chest_pain_type_input=gr.Slider(1,4,label=\"Enter Chest pain type\")\n",
    "BP_input=gr.Slider(1,200,label=\"Enter BP Rate\")\n",
    "Cholesterol_input=gr.Slider(1,500,label=\"Enter Cholesterol Rate\")\n",
    "FBS_over_120_input=gr.Number(label=\"Enter FBS over 120 enter 0 or 1\")\n",
    "EKG_results_input=gr.Slider(0,2,label=\"Enter EKG results Rate\")\n",
    "Max_HR_input=gr.Slider(1,200,label=\"Enter Max HR Rate\")\n",
    "Exercise_angina_input = gr.Number(label = \"Enter 0  or 1\")\n",
    "ST_depression_input=gr.Slider(1,10,label=\"Enter ST depression Rate\")\n",
    "Slope_of_ST_input = gr.Number(label = \"Enter 1  or 2\")\n",
    "Number_of_vessels_fluro_input = gr.Number(label = \"Enter 0  or 2 or 3\")\n",
    "Thallium_input=gr.Slider(1,10,label=\"Enter Thallium Rate\")\n",
    "\n",
    "# We create the output\n",
    "output = gr.Textbox()\n",
    "\n",
    "\n",
    "app = gr.Interface(fn = moduls,inputs=[moduls_input,Gender_input,Chest_pain_type_input, BP_input, Cholesterol_input, FBS_over_120_input, EKG_results_input, Max_HR_input, Exercise_angina_input, ST_depression_input, Slope_of_ST_input, Number_of_vessels_fluro_input, Thallium_input], outputs=output)\n",
    "app.launch()\n"
   ]
  }
 ],
 "metadata": {
  "kernelspec": {
   "display_name": "Python 3 (ipykernel)",
   "language": "python",
   "name": "python3"
  },
  "language_info": {
   "codemirror_mode": {
    "name": "ipython",
    "version": 3
   },
   "file_extension": ".py",
   "mimetype": "text/x-python",
   "name": "python",
   "nbconvert_exporter": "python",
   "pygments_lexer": "ipython3",
   "version": "3.12.7"
  }
 },
 "nbformat": 4,
 "nbformat_minor": 5
}
